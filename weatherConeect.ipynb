{
 "cells": [
  {
   "cell_type": "code",
   "execution_count": 1,
   "metadata": {},
   "outputs": [],
   "source": [
    "import urllib, csv, os, datetime, urllib.request, re, sys\n",
    "import time\n",
    "import requests\n",
    "from bs4 import BeautifulSoup\n",
    "import mysql.connector\n",
    "import json\n"
   ]
  },
  {
   "cell_type": "code",
   "execution_count": null,
   "metadata": {},
   "outputs": [],
   "source": [
    "while True:\n",
    "\n",
    "\n",
    "    conn = mysql.connector.connect(host=\"dublinbikesdata.cmgmbuuwvwd0.eu-west-1.rds.amazonaws.com\",user=\"EnxiJessieMarian\",passwd=\"SoftwareEngineering2019\",database=\"DublinBikesData\")\n",
    "    mycursor = conn.cursor()\n",
    "    \n",
    "    \n",
    "    \n",
    "    url = 'http://api.openweathermap.org/data/2.5/weather?appid=ae679d7b6212a1a3daf681d0d843aa83&q=Dublin'\n",
    "    the_page = requests.get(url).json()\n",
    "#     print(the_page)\n",
    "#     print(the_page['main']['temp'])\n",
    "    \n",
    "    \n",
    "    \n",
    "    sql = \"INSERT INTO weather (temperature, cloud, humidity, wind_direction, wind_speed) VALUES (%s, %s, %s, %s, %s)\"\n",
    "    val = (the_page['main']['temp'], the_page['clouds']['all'], the_page['main']['humidity'], the_page['wind']['deg'], the_page['wind']['speed'] )\n",
    "    mycursor.execute(sql, val)\n",
    "    \n",
    "    \n",
    "    conn.commit()\n",
    "    conn.close()\n",
    "    \n",
    "    \n",
    "    time.sleep(3600)"
   ]
  },
  {
   "cell_type": "code",
   "execution_count": null,
   "metadata": {},
   "outputs": [],
   "source": []
  },
  {
   "cell_type": "code",
   "execution_count": null,
   "metadata": {},
   "outputs": [],
   "source": []
  },
  {
   "cell_type": "code",
   "execution_count": null,
   "metadata": {},
   "outputs": [],
   "source": []
  },
  {
   "cell_type": "code",
   "execution_count": null,
   "metadata": {},
   "outputs": [],
   "source": []
  }
 ],
 "metadata": {
  "kernelspec": {
   "display_name": "Python 3",
   "language": "python",
   "name": "python3"
  },
  "language_info": {
   "codemirror_mode": {
    "name": "ipython",
    "version": 3
   },
   "file_extension": ".py",
   "mimetype": "text/x-python",
   "name": "python",
   "nbconvert_exporter": "python",
   "pygments_lexer": "ipython3",
   "version": "3.7.2"
  }
 },
 "nbformat": 4,
 "nbformat_minor": 2
}
